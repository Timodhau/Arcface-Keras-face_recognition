{
 "cells": [
  {
   "cell_type": "code",
   "execution_count": 1,
   "metadata": {},
   "outputs": [],
   "source": [
    "from __future__ import print_function\n",
    "from __future__ import absolute_import\n",
    "from __future__ import division"
   ]
  },
  {
   "cell_type": "code",
   "execution_count": 2,
   "metadata": {},
   "outputs": [
    {
     "name": "stderr",
     "output_type": "stream",
     "text": [
      "Using TensorFlow backend.\n"
     ]
    }
   ],
   "source": [
    "import keras\n",
    "import tensorflow as tf\n",
    "gpu_options = tf.GPUOptions(per_process_gpu_memory_fraction=0.95)\n",
    "\n",
    "sess = tf.Session(config=tf.ConfigProto(gpu_options=gpu_options))"
   ]
  },
  {
   "cell_type": "code",
   "execution_count": 3,
   "metadata": {},
   "outputs": [],
   "source": [
    "from pandas import read_csv\n",
    "import cv2\n",
    "import numpy as np\n",
    "import pandas as pd\n",
    "from matplotlib import pyplot as plt\n",
    "from os.path import isfile\n",
    "from tqdm import tqdm_notebook as tqdm\n",
    "import random\n",
    "from random import shuffle\n",
    "import os\n",
    "import math\n",
    "from datetime import datetime"
   ]
  },
  {
   "cell_type": "code",
   "execution_count": 4,
   "metadata": {},
   "outputs": [],
   "source": [
    "import os\n",
    "import pandas as pd\n",
    "\n",
    "TRAIN_PATH = '../datasets/casia/bbox/'\n",
    "#TEST_PATH = '../datasets/casia/test_bbox/'\n"
   ]
  },
  {
   "cell_type": "code",
   "execution_count": 5,
   "metadata": {},
   "outputs": [],
   "source": [
    "from os.path import isfile"
   ]
  },
  {
   "cell_type": "code",
   "execution_count": 6,
   "metadata": {},
   "outputs": [
    {
     "data": {
      "text/plain": [
       "(452960,)"
      ]
     },
     "execution_count": 6,
     "metadata": {},
     "output_type": "execute_result"
    }
   ],
   "source": [
    "tagged = {}\n",
    "join = []\n",
    "#submit = os.listdir('../datasets/casia/test_/')\n",
    "train_dataset = os.listdir(TRAIN_PATH)\n",
    "\n",
    "for i in range(len(train_dataset)):\n",
    "    tagged[train_dataset[i]] = train_dataset[i].split(':')[0]\n",
    "    \n",
    "#join = list(tagged.keys()) + submit\n",
    "\n",
    "len(tagged),#len(submit),len(join),list(tagged.items())[:5],submit[:5]"
   ]
  },
  {
   "cell_type": "code",
   "execution_count": 7,
   "metadata": {},
   "outputs": [
    {
     "data": {
      "application/vnd.jupyter.widget-view+json": {
       "model_id": "888be4cc3a0040ee82f549a63fdb57b7",
       "version_major": 2,
       "version_minor": 0
      },
      "text/plain": [
       "HBox(children=(IntProgress(value=0, max=452960), HTML(value='')))"
      ]
     },
     "metadata": {},
     "output_type": "display_data"
    },
    {
     "name": "stdout",
     "output_type": "stream",
     "text": [
      "\n",
      "10575\n"
     ]
    }
   ],
   "source": [
    "Id2p = {}\n",
    "\n",
    "for p in tqdm(train_dataset):\n",
    "    Id = p.split(':')[0]\n",
    "    if Id not in Id2p: Id2p[Id] = []\n",
    "    if p not in Id2p[Id]: Id2p[Id].append(p)\n",
    "        \n",
    "print(len(Id2p))"
   ]
  },
  {
   "cell_type": "code",
   "execution_count": 8,
   "metadata": {},
   "outputs": [],
   "source": [
    "num_classes = len(Id2p)"
   ]
  },
  {
   "cell_type": "raw",
   "metadata": {},
   "source": [
    "p2Id = {}\n",
    "Ids = []\n",
    "\n",
    "for p in tqdm(train_dataset):\n",
    "    classes = p.split(':')[0]\n",
    "    p2Id[p] = classes\n",
    "    Ids.append(classes)\n",
    "\n",
    "Id2p = {}\n",
    "\n",
    "for p,Id in tqdm(p2Id.items()):\n",
    "    if Id not in Id2p: Id2p[Id] = []\n",
    "    if p not in Id2p[Id]: Id2p[Id].append(p)"
   ]
  },
  {
   "cell_type": "code",
   "execution_count": 9,
   "metadata": {},
   "outputs": [
    {
     "data": {
      "application/vnd.jupyter.widget-view+json": {
       "model_id": "d3060d7b818e4e9195835ab67dc14029",
       "version_major": 2,
       "version_minor": 0
      },
      "text/plain": [
       "HBox(children=(IntProgress(value=0, max=452960), HTML(value='')))"
      ]
     },
     "metadata": {},
     "output_type": "display_data"
    },
    {
     "name": "stdout",
     "output_type": "stream",
     "text": [
      "\n",
      "10575\n"
     ]
    }
   ],
   "source": [
    "train = os.listdir(TRAIN_PATH)\n",
    "\n",
    "trainId2p = {}\n",
    "\n",
    "for p in tqdm(train):\n",
    "    Id = p.split(':')[0]\n",
    "    if Id not in trainId2p: trainId2p[Id] = []\n",
    "    if p not in trainId2p[Id]: trainId2p[Id].append(p)\n",
    "        \n",
    "print(len(trainId2p))"
   ]
  },
  {
   "cell_type": "code",
   "execution_count": 10,
   "metadata": {},
   "outputs": [
    {
     "name": "stdout",
     "output_type": "stream",
     "text": [
      "442385\n",
      "10575\n",
      "['0059431:104.jpg', '0431645:055.jpg', '2321925:031.jpg']\n",
      "10575\n"
     ]
    }
   ],
   "source": [
    "\n",
    "train = []\n",
    "train_val = []\n",
    "\n",
    "for Id,p in trainId2p.items():\n",
    "    long = len(p)\n",
    "    shuffle(p)\n",
    "    if long>1:\n",
    "        train_val.append(p[long-1])\n",
    "        for i in range(0,long-1):\n",
    "            train.append(p[i])\n",
    "    else:\n",
    "        for i in range(0,long):\n",
    "            train.append(p[i])\n",
    "            \n",
    "Id2number = {}\n",
    "a = 0\n",
    "for Id in Id2p.keys():\n",
    "    Id2number[Id] = a\n",
    "    a += 1\n",
    "    \n",
    "print(len(train))\n",
    "print(len(train_val))\n",
    "print(train_val[:3])\n",
    "print(len(Id2number))"
   ]
  },
  {
   "cell_type": "code",
   "execution_count": 11,
   "metadata": {},
   "outputs": [],
   "source": [
    "from PIL import Image as pil_image\n",
    "from tqdm import tqdm_notebook\n",
    "\n",
    "def expand_path(p):\n",
    "    if isfile(TRAIN_PATH + str(p)): return TRAIN_PATH + str(p)\n",
    "    if isfile(TEST_PATH + str(p)): return TEST_PATH + str(p)\n",
    "    return p\n",
    "\n",
    "\n",
    "def read_raw_image(p):\n",
    "    img = pil_image.open(expand_path(p))\n",
    "    #if p in rotate: img = img.rotate(180)\n",
    "    return img"
   ]
  },
  {
   "cell_type": "code",
   "execution_count": 12,
   "metadata": {},
   "outputs": [],
   "source": [
    "import random\n",
    "from keras import backend as K\n",
    "from keras.preprocessing.image import img_to_array,array_to_img\n",
    "import cv2\n",
    "from matplotlib import pyplot as plt\n",
    "import numpy as np\n",
    "\n",
    "from albumentations import (\n",
    "    HorizontalFlip, IAAPerspective, ShiftScaleRotate, CLAHE, RandomRotate90,\n",
    "    Transpose, ShiftScaleRotate, Blur, OpticalDistortion, GridDistortion, HueSaturationValue,\n",
    "    IAAAdditiveGaussianNoise, GaussNoise, MotionBlur, MedianBlur, IAAPiecewiseAffine,\n",
    "    IAASharpen, IAAEmboss, RandomBrightnessContrast, Flip, OneOf, Compose\n",
    ")\n",
    "\n",
    "def strong_aug(p=0.7):\n",
    "    return Compose([\n",
    "        #RandomRotate90(),\n",
    "        #Flip(),\n",
    "        HorizontalFlip(),\n",
    "        #OneOf([\n",
    "        #    IAAAdditiveGaussianNoise()\n",
    "        #], p=0.3),\n",
    "        #OneOf([\n",
    "        #    MotionBlur(p=0.3),\n",
    "        #    MedianBlur(blur_limit=1, p=0.3),\n",
    "        #    Blur(blur_limit=1, p=0.3),\n",
    "        #], p=0.2),\n",
    "        ShiftScaleRotate(shift_limit=0.0625, scale_limit=0.2, rotate_limit=30, p=0.5,border_mode=0),\n",
    "        #CLAHE(clip_limit=4.0, tile_grid_size=(8, 8), always_apply=False, p=0.35),\n",
    "        #OneOf([\n",
    "        #    IAASharpen(),\n",
    "        #    IAAEmboss(),\n",
    "        #], p=0.3),\n",
    "    ], p=p)\n",
    "\n",
    "aug = strong_aug(p=0.7)"
   ]
  },
  {
   "cell_type": "code",
   "execution_count": 13,
   "metadata": {},
   "outputs": [],
   "source": [
    "img_shape = (112,96,3)\n",
    "\n",
    "def read_cropped_image(p, augment):\n",
    "    \"\"\"\n",
    "    @param p : the name of the picture to read\n",
    "    @param augment: True/False if data augmentation should be performed\n",
    "    @return a numpy array with the transformed image\n",
    "    \"\"\"\n",
    "    # Read the image, transform to black and white and comvert to numpy array\n",
    "    img   = read_raw_image(p)#.convert('L')\n",
    "    img   = img_to_array(img)\n",
    "        \n",
    "    img   = img.astype('uint8')\n",
    "    \n",
    "    \n",
    "    if img.shape[2] == 1:\n",
    "        img = np.stack((img[..., 0],) * 3, axis=-1)\n",
    "    \n",
    "    if augment:\n",
    "        augmented = aug(image=img)\n",
    "        img = augmented['image']\n",
    "\n",
    "    \n",
    "    img = cv2.resize(img,(img_shape[1],img_shape[0]))\n",
    "\n",
    "    img   = img.astype('float64')\n",
    "    #img = img.astype('uint8')\n",
    "    # Normalize to zero mean and unit variance\n",
    "    img  -= np.mean(img, keepdims=True)\n",
    "    img  /= np.std(img, keepdims=True) #+ K.epsilon()\n",
    "    #img -= 127.5\n",
    "    #img = img/255\n",
    "    #img = img.reshape(img.shape[0],img.shape[1],1)\n",
    "    \n",
    "    \n",
    "    return img"
   ]
  },
  {
   "cell_type": "code",
   "execution_count": 14,
   "metadata": {},
   "outputs": [],
   "source": [
    "def read_for_training(p):\n",
    "    \"\"\"\n",
    "    Read and preprocess an image with data augmentation (random transform).\n",
    "    \"\"\"\n",
    "    return read_cropped_image(p, True)\n",
    "\n",
    "def read_for_validation(p):\n",
    "    \"\"\"\n",
    "    Read and preprocess an image without data augmentation (use for testing).\n",
    "    \"\"\"\n",
    "    return read_cropped_image(p, False)"
   ]
  },
  {
   "cell_type": "code",
   "execution_count": 15,
   "metadata": {},
   "outputs": [],
   "source": [
    "\n",
    "img = read_cropped_image(train_dataset[39], True)\n",
    "\n",
    "#img = np.squeeze(img)\n",
    "img = img*255+127.5\n",
    "img = img.astype('uint8')\n",
    "#print(img)\n",
    "img2 = read_cropped_image(train_dataset[39],False)\n",
    "img2 = img2*255+127.5\n",
    "img2 = img2.astype('uint8')\n",
    "#img2 = np.squeeze(img2)\n",
    "\n",
    "img3 = read_cropped_image(train_dataset[433], True)\n",
    "img3 = img3*255+127.5\n",
    "#img = np.squeeze(img)\n",
    "img3 = img3.astype('uint8')\n",
    "#print(img)\n",
    "img4 = read_cropped_image(train_dataset[433],False)\n",
    "img4 = img4*255+127.5\n",
    "img4 = img4.astype('uint8')"
   ]
  },
  {
   "cell_type": "code",
   "execution_count": 16,
   "metadata": {},
   "outputs": [
    {
     "data": {
      "text/plain": [
       "<matplotlib.image.AxesImage at 0x7f766b627438>"
      ]
     },
     "execution_count": 16,
     "metadata": {},
     "output_type": "execute_result"
    },
    {
     "data": {
      "image/png": "[encoded data removed]",
      "text/plain": [
       "<Figure size 5760x2160 with 4 Axes>"
      ]
     },
     "metadata": {
      "needs_background": "light"
     },
     "output_type": "display_data"
    }
   ],
   "source": [
    "fig = plt.figure(figsize = (80, 30))\n",
    "y = fig.add_subplot(3, 4, 1)\n",
    "plt.imshow(img2)\n",
    "y = fig.add_subplot(3, 4, 2)\n",
    "plt.imshow(img)\n",
    "y = fig.add_subplot(3, 4, 3)\n",
    "plt.imshow(img3)\n",
    "y = fig.add_subplot(3, 4, 4)\n",
    "plt.imshow(img4)"
   ]
  },
  {
   "cell_type": "code",
   "execution_count": 17,
   "metadata": {},
   "outputs": [
    {
     "name": "stdout",
     "output_type": "stream",
     "text": [
      "452960\n"
     ]
    }
   ],
   "source": [
    "label = []\n",
    "for p in train_dataset:\n",
    "    label.append(p.split(':')[0])\n",
    "\n",
    "# Find all images associated with a given phash value.\n",
    "all_label = []\n",
    "for p in train_dataset:\n",
    "    Id = p.split(':')[0]\n",
    "    all_label.append(Id)\n",
    "    #if p not in h2ps[h]: h2ps[h].append(p)\n",
    "    \n",
    "print(len(all_label))"
   ]
  },
  {
   "cell_type": "code",
   "execution_count": 21,
   "metadata": {},
   "outputs": [],
   "source": [
    "import keras\n",
    "\n",
    "class TrainingGenerator(keras.utils.Sequence):\n",
    "    'Generates data for Keras'\n",
    "    def __init__(self, list_IDs, labels,batch_size=32, dim=(112,96) ,n_classes=num_classes,n_channels=3,\n",
    "                 shuffle=True,augmentation=False):\n",
    "        'Initialization'\n",
    "        self.dim = dim\n",
    "        self.list_IDs = list_IDs\n",
    "        self.labels = labels\n",
    "        self.batch_size = batch_size\n",
    "        self.n_classes = n_classes\n",
    "        self.shuffle = shuffle\n",
    "        self.n_channels = n_channels\n",
    "        self.augmentation = augmentation\n",
    "        self.on_epoch_end()\n",
    "\n",
    "    def __len__(self):\n",
    "        'Denotes the number of batches per epoch'\n",
    "        return int(np.floor((len(self.list_IDs) / self.batch_size) ))\n",
    "\n",
    "    def __getitem__(self, index):\n",
    "        'Generate one batch of data'\n",
    "        # Generate indexes of the batch\n",
    "        indexes = self.indexes[index*self.batch_size:(index+1)*self.batch_size]\n",
    "\n",
    "        # Find list of IDs\n",
    "        list_IDs_temp = [self.list_IDs[k] for k in indexes]\n",
    "        # Generate data\n",
    "        X, y = self.__data_generation(list_IDs_temp)\n",
    "\n",
    "        return X, y\n",
    "\n",
    "\n",
    "    def on_epoch_end(self):\n",
    "        'Updates indexes after each epoch'\n",
    "        self.indexes = np.arange(len(self.list_IDs))\n",
    "        if self.shuffle == True:\n",
    "            np.random.shuffle(self.indexes)\n",
    "\n",
    "    def __data_generation(self, list_IDs_temp):\n",
    "        'Generates data containing batch_size samples' # X : (n_samples, *dim, n_channels)\n",
    "        \n",
    "        X = np.empty((self.batch_size, *self.dim, self.n_channels))\n",
    "        y = np.empty((self.batch_size,1), dtype=int)\n",
    "\n",
    "        # Generate data\n",
    "        for i, ID in enumerate(list_IDs_temp):\n",
    "            # Store sample\n",
    "            X[i,] = read_cropped_image(ID,self.augmentation)\n",
    "            \n",
    "            # Store class\n",
    "            label =  ID.split(':')[0]\n",
    "            #label = p2Id[ID]\n",
    "            label = Id2number[label]\n",
    "            \n",
    "            y[i] = label\n",
    "\n",
    "        return X, keras.utils.to_categorical(y, num_classes=self.n_classes)"
   ]
  },
  {
   "cell_type": "code",
   "execution_count": 22,
   "metadata": {},
   "outputs": [
    {
     "data": {
      "text/plain": [
       "((32, 112, 96, 3), (32, 10575))"
      ]
     },
     "execution_count": 22,
     "metadata": {},
     "output_type": "execute_result"
    }
   ],
   "source": [
    "# Test on a batch of 32 with random costs.\n",
    "#score = np.random.random_sample(size=(len(train),len(train)))\n",
    "data = TrainingGenerator(train,Id2number,n_classes=num_classes)\n",
    "a, c = data[0]\n",
    "a.shape, c.shape\n"
   ]
  },
  {
   "cell_type": "raw",
   "metadata": {},
   "source": [
    "from models.Senet import *"
   ]
  },
  {
   "cell_type": "raw",
   "metadata": {},
   "source": [
    "backbone = SEResNet(input_shape=(128,64,3),\n",
    "             initial_conv_filters=64,\n",
    "             depth=[3, 4, 6, 3],\n",
    "             filters=[64, 128, 256, 512],\n",
    "             width=1,\n",
    "             bottleneck=False,\n",
    "             weight_decay=1e-4,\n",
    "             include_top=False,\n",
    "             weights=None,\n",
    "             input_tensor=None,\n",
    "             pooling='Average',\n",
    "             classes=5552)"
   ]
  },
  {
   "cell_type": "code",
   "execution_count": 24,
   "metadata": {},
   "outputs": [
    {
     "name": "stderr",
     "output_type": "stream",
     "text": [
      "WARNING: Logging before flag parsing goes to stderr.\n",
      "W0603 11:54:33.124852 140151287752512 deprecation.py:506] From /home/iilab/anaconda3/envs/tf-gpu/lib/python3.6/site-packages/tensorflow/python/training/moving_averages.py:210: calling Zeros.__init__ (from tensorflow.python.ops.init_ops) with dtype is deprecated and will be removed in a future version.\n",
      "Instructions for updating:\n",
      "Call initializer instance with the dtype argument instead of passing it to the constructor\n",
      "/home/iilab/anaconda3/envs/tf-gpu/lib/python3.6/site-packages/keras_applications/resnet50.py:265: UserWarning: The output shape of `ResNet50(include_top=False)` has been changed since Keras 2.2.0.\n",
      "  warnings.warn('The output shape of `ResNet50(include_top=False)` '\n"
     ]
    }
   ],
   "source": [
    "import keras\n",
    "from keras.applications.resnet50 import ResNet50\n",
    "\n",
    "backbone = ResNet50(input_shape=(112,96,3), weights='imagenet', include_top=False)"
   ]
  },
  {
   "cell_type": "code",
   "execution_count": 25,
   "metadata": {},
   "outputs": [],
   "source": [
    "import keras\n",
    "from keras.engine.topology import Layer\n",
    "from keras import backend as K\n",
    "from keras.initializers import Constant\n",
    "import tensorflow as tf\n",
    "from keras.utils.generic_utils import get_custom_objects\n",
    "from keras.models import Model\n",
    "import math"
   ]
  },
  {
   "cell_type": "code",
   "execution_count": 26,
   "metadata": {},
   "outputs": [],
   "source": [
    "class Dense_with_Arcface_loss(Layer): #Perfection ! \n",
    "\n",
    "    def __init__(self, output_dim, **kwargs):\n",
    "        self.output_dim = output_dim\n",
    "        super(Dense_with_Arcface_loss, self).__init__(**kwargs)\n",
    "\n",
    "    def build(self, input_shape):\n",
    "        assert len(input_shape) >= 2\n",
    "        input_dim = input_shape[-1]\n",
    "\n",
    "        self.kernel = self.add_weight(name='kernel',\n",
    "                                      shape=(input_shape[1], self.output_dim),\n",
    "                                      initializer='uniform',\n",
    "                                      trainable=True)\n",
    "        super(Dense_with_Arcface_loss, self).build(input_shape)\n",
    "        #self.kernel = K.l2_normalize(self.kernel,0)\n",
    "\n",
    "    def call(self, inputs):\n",
    "        inputs = tf.nn.l2_normalize(inputs, dim=1)  # input_l2norm\n",
    "        self.kernel = tf.nn.l2_normalize(self.kernel, dim=0)   # W_l2norm\n",
    "\n",
    "        cosine = K.dot(inputs, self.kernel)  # cos = input_l2norm * W_l2norm\n",
    "        return cosine\n",
    "\n",
    "    def compute_output_shape(self, input_shape):\n",
    "        return (input_shape[0], self.output_dim)\n",
    "\n",
    "   "
   ]
  },
  {
   "cell_type": "code",
   "execution_count": 27,
   "metadata": {},
   "outputs": [],
   "source": [
    "def Arcface_loss(y_true, y_pred,m=0.35,scale=50.,num_classes=num_classes):\n",
    "        #Parameters  \n",
    "        cos_m = math.cos(m) \n",
    "        sin_m = math.sin(m) \n",
    "        threshold = math.cos(math.pi - m)\n",
    "        mm = math.sin(math.pi - m) * m\n",
    "        \n",
    "        cos_t = y_pred\n",
    "        \n",
    "        cos_t2 = K.tf.square(cos_t, name='cos_2')\n",
    "        sin_t2 = K.tf.subtract(1., cos_t2, name='sin_2')\n",
    "        sin_t = K.tf.sqrt(sin_t2, name='sin_t')\n",
    "        cos_mt = scale * tf.subtract(K.tf.multiply(cos_t, cos_m), K.tf.multiply(sin_t, sin_m), name='cos_mt')\n",
    "\n",
    "        cond_v = cos_t - threshold\n",
    "        cond = tf.cast(K.tf.nn.relu(cond_v, name='if_else'), dtype=tf.bool)\n",
    "\n",
    "        keep_val = scale*(cos_t - mm)\n",
    "        cos_mt_temp = K.tf.where(cond, cos_mt, keep_val)\n",
    "\n",
    "        mask = y_true\n",
    "        \n",
    "        inv_mask = K.tf.subtract(1., mask, name='inverse_mask')\n",
    "\n",
    "        s_cos_t = K.tf.multiply(scale, cos_t, name='scalar_cos_t')\n",
    "\n",
    "        output = K.tf.add(K.tf.multiply(s_cos_t, inv_mask), K.tf.multiply(cos_mt_temp, mask), name='arcface_loss_output')\n",
    "\n",
    "        cross_ent = tf.nn.softmax_cross_entropy_with_logits(labels=y_true, logits=output)\n",
    "        loss = tf.reduce_mean(cross_ent)\n",
    "        \n",
    "        return loss\n"
   ]
  },
  {
   "cell_type": "code",
   "execution_count": 28,
   "metadata": {},
   "outputs": [],
   "source": [
    "def CosineFaceLoss(y_true, y_pred,m=0.35,scale=30.,num_classes=num_classes):\n",
    "\n",
    "    cosine = y_pred\n",
    "\n",
    "    cosine = tf.clip_by_value(cosine, -1, 1, name='cosine_clip') - m * y_true\n",
    "    \n",
    "    return tf.reduce_mean(tf.nn.softmax_cross_entropy_with_logits(labels=y_true,\n",
    "        logits=scale * cosine), name='cosine_loss')"
   ]
  },
  {
   "cell_type": "code",
   "execution_count": 29,
   "metadata": {},
   "outputs": [],
   "source": [
    "from keras.layers import Dense, GlobalAveragePooling2D, Input, Dropout, Conv2D, BatchNormalization, GlobalMaxPooling2D\n",
    "from keras.optimizers import Adam\n",
    "\n",
    "def create_model(backbone,lr):\n",
    "    \n",
    "    input_shape = (112,96, 3)\n",
    "    inp = Input(shape=input_shape)\n",
    "    \n",
    "    for layer in backbone.layers:\n",
    "        layer.trainable = True\n",
    "        \n",
    "    feature = backbone(inp)\n",
    "    feature = GlobalAveragePooling2D()(feature) # 0.294\n",
    "    #feature = GlobalMaxPooling2D()(feature)\n",
    "    feature = BatchNormalization()(feature)\n",
    "    \n",
    "\n",
    "        \n",
    "    Arcface_softmax_logits = Dense_with_Arcface_loss(num_classes)\n",
    "    out = Arcface_softmax_logits(feature)\n",
    "    model = Model(inputs=inp, outputs=out)\n",
    "    model.compile(loss=Arcface_loss, optimizer='Adam', metrics=['acc'])\n",
    "    \n",
    "    return model"
   ]
  },
  {
   "cell_type": "code",
   "execution_count": null,
   "metadata": {},
   "outputs": [],
   "source": []
  },
  {
   "cell_type": "code",
   "execution_count": 30,
   "metadata": {
    "scrolled": true
   },
   "outputs": [
    {
     "name": "stderr",
     "output_type": "stream",
     "text": [
      "W0603 11:55:05.287510 140151287752512 deprecation.py:506] From <ipython-input-26-8efcd3911ed1>:19: calling l2_normalize (from tensorflow.python.ops.nn_impl) with dim is deprecated and will be removed in a future version.\n",
      "Instructions for updating:\n",
      "dim is deprecated, use axis instead\n",
      "W0603 11:55:05.319141 140151287752512 deprecation.py:323] From <ipython-input-27-bce830354592>:29: softmax_cross_entropy_with_logits (from tensorflow.python.ops.nn_ops) is deprecated and will be removed in a future version.\n",
      "Instructions for updating:\n",
      "\n",
      "Future major versions of TensorFlow will allow gradients to flow\n",
      "into the labels input on backprop by default.\n",
      "\n",
      "See `tf.nn.softmax_cross_entropy_with_logits_v2`.\n",
      "\n"
     ]
    }
   ],
   "source": [
    "model = create_model(backbone,64e-2)\n",
    "#model,branch_model = create_model(backbone,64e-2)"
   ]
  },
  {
   "cell_type": "code",
   "execution_count": 31,
   "metadata": {},
   "outputs": [],
   "source": [
    "#model.load_weights('../state-of-art/model-checkpoint/Casia/Arcface-UNMASKED-112x112-55-3.826-0.888-20190425_102216.model')"
   ]
  },
  {
   "cell_type": "code",
   "execution_count": 32,
   "metadata": {
    "scrolled": true
   },
   "outputs": [
    {
     "name": "stdout",
     "output_type": "stream",
     "text": [
      "_________________________________________________________________\n",
      "Layer (type)                 Output Shape              Param #   \n",
      "=================================================================\n",
      "input_2 (InputLayer)         (None, 112, 96, 3)        0         \n",
      "_________________________________________________________________\n",
      "resnet50 (Model)             (None, 4, 3, 2048)        23587712  \n",
      "_________________________________________________________________\n",
      "global_average_pooling2d_1 ( (None, 2048)              0         \n",
      "_________________________________________________________________\n",
      "batch_normalization_1 (Batch (None, 2048)              8192      \n",
      "_________________________________________________________________\n",
      "dense_with__arcface_loss_1 ( (None, 10575)             21657600  \n",
      "=================================================================\n",
      "Total params: 45,253,504\n",
      "Trainable params: 45,196,288\n",
      "Non-trainable params: 57,216\n",
      "_________________________________________________________________\n"
     ]
    }
   ],
   "source": [
    "model.summary()"
   ]
  },
  {
   "cell_type": "code",
   "execution_count": 33,
   "metadata": {},
   "outputs": [
    {
     "name": "stdout",
     "output_type": "stream",
     "text": [
      "442385\n",
      "10575\n"
     ]
    }
   ],
   "source": [
    "print(len(train))\n",
    "print(len(train_val))"
   ]
  },
  {
   "cell_type": "code",
   "execution_count": 34,
   "metadata": {},
   "outputs": [],
   "source": [
    "from keras.callbacks import ReduceLROnPlateau, EarlyStopping, ModelCheckpoint\n",
    "from tqdm import tqdm_notebook as tqdm\n",
    "from keras_tqdm import TQDMNotebookCallback\n",
    "from sklearn.utils import shuffle\n",
    "from keras.callbacks import CSVLogger\n",
    "\n",
    "\n",
    "\n",
    "def make_steps(step):\n",
    "    \"\"\"\n",
    "    Perform training epochs\n",
    "    @param step Number of epochs to perform\n",
    "    @param ampl the K, the randomized component of the score matrix.\n",
    "    \"\"\"\n",
    "    global train,train_val,steps, histories\n",
    "    \n",
    "    reduce_lr = ReduceLROnPlateau(factor=0.5, patience=3, min_lr=0.000001, verbose=1, monitor='val_acc', mode='max')\n",
    "    early_stopping = EarlyStopping(patience=10, verbose=1, monitor='val_acc', mode='max')\n",
    "    # Create a TensorBoard logger\n",
    "    csv_logger = CSVLogger('log.csv', append=True, separator=';')\n",
    "    \n",
    "    \n",
    "    # Parameters\n",
    "    params = {'dim': (img_shape[0],img_shape[1]),\n",
    "          'n_classes' : num_classes,\n",
    "          'batch_size': 64,\n",
    "          'n_channels': 3,\n",
    "          'shuffle': True\n",
    "             }\n",
    "\n",
    "    # Datasets\n",
    "    train = shuffle(train, random_state=0)\n",
    "    train_val = shuffle(train_val, random_state=0)\n",
    "    \n",
    "\n",
    "    # Generators\n",
    "    training_generator = TrainingGenerator(train, Id2number ,**params,augmentation=True)\n",
    "    validation_generator = TrainingGenerator(train_val, Id2number ,**params,augmentation=False)\n",
    "    \n",
    "    # Train the model for 'step' epochs\n",
    "    history = model.fit_generator(\n",
    "        generator=training_generator,\n",
    "        validation_data=validation_generator, \n",
    "        initial_epoch=steps, epochs=steps + step, verbose=0,\n",
    "        callbacks=[ModelCheckpoint('../state-of-art/model-checkpoint/Casia/Arcface-UNMASKED-112x96-{epoch:02d}-{loss:.3f}-{val_acc:.3f}.model', monitor='val_acc', verbose=1, save_best_only=True, mode='max'),\n",
    "                   reduce_lr,\n",
    "                   csv_logger,\n",
    "            TQDMNotebookCallback(leave_inner=True, metric_format='{value:0.3f}')\n",
    "        ]).history\n",
    "    steps += step\n",
    "    \n",
    "    # Collect history data\n",
    "    history['epochs'] = steps\n",
    "    print(history['epochs'])\n",
    "    histories.append(history)"
   ]
  },
  {
   "cell_type": "code",
   "execution_count": 35,
   "metadata": {},
   "outputs": [],
   "source": [
    "def set_lr(model, lr):\n",
    "    K.set_value(model.optimizer.lr, float(lr))"
   ]
  },
  {
   "cell_type": "code",
   "execution_count": 36,
   "metadata": {},
   "outputs": [],
   "source": [
    "histories = []\n",
    "steps = 0"
   ]
  },
  {
   "cell_type": "code",
   "execution_count": null,
   "metadata": {
    "scrolled": true
   },
   "outputs": [
    {
     "data": {
      "application/vnd.jupyter.widget-view+json": {
       "model_id": "c76b0712a8e746a6a56e90f4a66bd0d2",
       "version_major": 2,
       "version_minor": 0
      },
      "text/plain": [
       "HBox(children=(IntProgress(value=0, description='Training', style=ProgressStyle(description_width='initial')),…"
      ]
     },
     "metadata": {},
     "output_type": "display_data"
    },
    {
     "data": {
      "application/vnd.jupyter.widget-view+json": {
       "model_id": "d2a659612c77462a8072629f8a6f57b7",
       "version_major": 2,
       "version_minor": 0
      },
      "text/plain": [
       "HBox(children=(IntProgress(value=0, description='Epoch 0', max=6912, style=ProgressStyle(description_width='in…"
      ]
     },
     "metadata": {},
     "output_type": "display_data"
    },
    {
     "name": "stdout",
     "output_type": "stream",
     "text": [
      "\n",
      "Epoch 00001: val_acc improved from -inf to 0.03258, saving model to ../state-of-art/model-checkpoint/Casia/Arcface-UNMASKED-112x96-01-24.708-0.033.model\n"
     ]
    },
    {
     "data": {
      "application/vnd.jupyter.widget-view+json": {
       "model_id": "9131411bdad84e9fbb5ff597982490cc",
       "version_major": 2,
       "version_minor": 0
      },
      "text/plain": [
       "HBox(children=(IntProgress(value=0, description='Epoch 1', max=6912, style=ProgressStyle(description_width='in…"
      ]
     },
     "metadata": {},
     "output_type": "display_data"
    },
    {
     "name": "stdout",
     "output_type": "stream",
     "text": [
      "\n",
      "Epoch 00002: val_acc improved from 0.03258 to 0.25502, saving model to ../state-of-art/model-checkpoint/Casia/Arcface-UNMASKED-112x96-02-20.762-0.255.model\n"
     ]
    },
    {
     "data": {
      "application/vnd.jupyter.widget-view+json": {
       "model_id": "320ea684933549798a79641d0fdd3755",
       "version_major": 2,
       "version_minor": 0
      },
      "text/plain": [
       "HBox(children=(IntProgress(value=0, description='Epoch 2', max=6912, style=ProgressStyle(description_width='in…"
      ]
     },
     "metadata": {},
     "output_type": "display_data"
    },
    {
     "name": "stdout",
     "output_type": "stream",
     "text": [
      "\n",
      "Epoch 00003: val_acc improved from 0.25502 to 0.48826, saving model to ../state-of-art/model-checkpoint/Casia/Arcface-UNMASKED-112x96-03-16.284-0.488.model\n"
     ]
    },
    {
     "data": {
      "application/vnd.jupyter.widget-view+json": {
       "model_id": "c7d019ef30e845db9686ab6e7e4ea5e6",
       "version_major": 2,
       "version_minor": 0
      },
      "text/plain": [
       "HBox(children=(IntProgress(value=0, description='Epoch 3', max=6912, style=ProgressStyle(description_width='in…"
      ]
     },
     "metadata": {},
     "output_type": "display_data"
    },
    {
     "name": "stdout",
     "output_type": "stream",
     "text": [
      "\n",
      "Epoch 00004: val_acc improved from 0.48826 to 0.58106, saving model to ../state-of-art/model-checkpoint/Casia/Arcface-UNMASKED-112x96-04-13.969-0.581.model\n"
     ]
    },
    {
     "data": {
      "application/vnd.jupyter.widget-view+json": {
       "model_id": "f7400ffbf2564b28b4495deb9547de1e",
       "version_major": 2,
       "version_minor": 0
      },
      "text/plain": [
       "HBox(children=(IntProgress(value=0, description='Epoch 4', max=6912, style=ProgressStyle(description_width='in…"
      ]
     },
     "metadata": {},
     "output_type": "display_data"
    },
    {
     "name": "stdout",
     "output_type": "stream",
     "text": [
      "\n",
      "Epoch 00005: val_acc improved from 0.58106 to 0.64223, saving model to ../state-of-art/model-checkpoint/Casia/Arcface-UNMASKED-112x96-05-12.576-0.642.model\n"
     ]
    },
    {
     "data": {
      "application/vnd.jupyter.widget-view+json": {
       "model_id": "ffc3f116e7af4906b34562bee34e0c03",
       "version_major": 2,
       "version_minor": 0
      },
      "text/plain": [
       "HBox(children=(IntProgress(value=0, description='Epoch 5', max=6912, style=ProgressStyle(description_width='in…"
      ]
     },
     "metadata": {},
     "output_type": "display_data"
    },
    {
     "name": "stdout",
     "output_type": "stream",
     "text": [
      "\n",
      "Epoch 00006: val_acc improved from 0.64223 to 0.68504, saving model to ../state-of-art/model-checkpoint/Casia/Arcface-UNMASKED-112x96-06-11.552-0.685.model\n"
     ]
    },
    {
     "data": {
      "application/vnd.jupyter.widget-view+json": {
       "model_id": "983b30ed94b6487c82325d7b3af52521",
       "version_major": 2,
       "version_minor": 0
      },
      "text/plain": [
       "HBox(children=(IntProgress(value=0, description='Epoch 6', max=6912, style=ProgressStyle(description_width='in…"
      ]
     },
     "metadata": {},
     "output_type": "display_data"
    },
    {
     "name": "stdout",
     "output_type": "stream",
     "text": [
      "\n",
      "Epoch 00007: val_acc improved from 0.68504 to 0.72652, saving model to ../state-of-art/model-checkpoint/Casia/Arcface-UNMASKED-112x96-07-10.737-0.727.model\n"
     ]
    },
    {
     "data": {
      "application/vnd.jupyter.widget-view+json": {
       "model_id": "42849017a1fa4b84b9f4feccb9f3b569",
       "version_major": 2,
       "version_minor": 0
      },
      "text/plain": [
       "HBox(children=(IntProgress(value=0, description='Epoch 7', max=6912, style=ProgressStyle(description_width='in…"
      ]
     },
     "metadata": {},
     "output_type": "display_data"
    },
    {
     "name": "stdout",
     "output_type": "stream",
     "text": [
      "\n",
      "Epoch 00008: val_acc improved from 0.72652 to 0.74659, saving model to ../state-of-art/model-checkpoint/Casia/Arcface-UNMASKED-112x96-08-10.117-0.747.model\n"
     ]
    },
    {
     "data": {
      "application/vnd.jupyter.widget-view+json": {
       "model_id": "16b716b425b84da7839637530c4099e4",
       "version_major": 2,
       "version_minor": 0
      },
      "text/plain": [
       "HBox(children=(IntProgress(value=0, description='Epoch 8', max=6912, style=ProgressStyle(description_width='in…"
      ]
     },
     "metadata": {},
     "output_type": "display_data"
    },
    {
     "name": "stdout",
     "output_type": "stream",
     "text": [
      "\n",
      "Epoch 00009: val_acc improved from 0.74659 to 0.75322, saving model to ../state-of-art/model-checkpoint/Casia/Arcface-UNMASKED-112x96-09-9.598-0.753.model\n"
     ]
    },
    {
     "data": {
      "application/vnd.jupyter.widget-view+json": {
       "model_id": "9ddc02546eb14834b35960458d7d8240",
       "version_major": 2,
       "version_minor": 0
      },
      "text/plain": [
       "HBox(children=(IntProgress(value=0, description='Epoch 9', max=6912, style=ProgressStyle(description_width='in…"
      ]
     },
     "metadata": {},
     "output_type": "display_data"
    },
    {
     "name": "stdout",
     "output_type": "stream",
     "text": [
      "\n",
      "Epoch 00010: val_acc improved from 0.75322 to 0.77822, saving model to ../state-of-art/model-checkpoint/Casia/Arcface-UNMASKED-112x96-10-9.179-0.778.model\n"
     ]
    },
    {
     "data": {
      "application/vnd.jupyter.widget-view+json": {
       "model_id": "a2245064ebef455f8b333b996baed327",
       "version_major": 2,
       "version_minor": 0
      },
      "text/plain": [
       "HBox(children=(IntProgress(value=0, description='Epoch 10', max=6912, style=ProgressStyle(description_width='i…"
      ]
     },
     "metadata": {},
     "output_type": "display_data"
    }
   ],
   "source": [
    "set_lr(model,0.1)\n",
    "\n",
    "make_steps(100)"
   ]
  },
  {
   "cell_type": "code",
   "execution_count": null,
   "metadata": {
    "scrolled": true
   },
   "outputs": [],
   "source": [
    "set_lr(model,0.032)\n",
    "\n",
    "make_steps(400)"
   ]
  },
  {
   "cell_type": "code",
   "execution_count": null,
   "metadata": {},
   "outputs": [],
   "source": [
    "set_lr(model,0.001)\n",
    "\n",
    "make_steps(50)"
   ]
  },
  {
   "cell_type": "code",
   "execution_count": null,
   "metadata": {},
   "outputs": [],
   "source": [
    "set_lr(model,0.001)\n",
    "\n",
    "make_steps(250)"
   ]
  },
  {
   "cell_type": "code",
   "execution_count": null,
   "metadata": {},
   "outputs": [],
   "source": [
    "#from keras.models import load_weights\n",
    "\n",
    "model.load_weights('../state-of-art/model-checkpoint/Arcface-47-0.196-0.499.model')"
   ]
  },
  {
   "cell_type": "code",
   "execution_count": null,
   "metadata": {},
   "outputs": [],
   "source": []
  },
  {
   "cell_type": "code",
   "execution_count": null,
   "metadata": {},
   "outputs": [],
   "source": [
    "make_steps(100)"
   ]
  },
  {
   "cell_type": "code",
   "execution_count": null,
   "metadata": {},
   "outputs": [],
   "source": [
    "model.summary()"
   ]
  },
  {
   "cell_type": "code",
   "execution_count": null,
   "metadata": {},
   "outputs": [],
   "source": [
    "for layer in model.layers:\n",
    "    print(layer.name)"
   ]
  },
  {
   "cell_type": "code",
   "execution_count": null,
   "metadata": {},
   "outputs": [],
   "source": [
    "#weights = model.get_weights()\n",
    "#model, branch_model = create_model(backbone,64e-2)\n",
    "#model.set_weights(weights)"
   ]
  },
  {
   "cell_type": "code",
   "execution_count": null,
   "metadata": {},
   "outputs": [],
   "source": [
    "test = os.listdir('../datasets/casia/test_bbox/')"
   ]
  },
  {
   "cell_type": "code",
   "execution_count": null,
   "metadata": {},
   "outputs": [],
   "source": [
    "class TestGenerator(keras.utils.Sequence):\n",
    "    'Generates data for Keras'\n",
    "    def __init__(self, list_IDs, batch_size=1, dim=(128,64) ,n_channels=3,n_classes = num_classes,\n",
    "                 augmentation=False):\n",
    "        'Initialization'\n",
    "        self.dim = dim\n",
    "        self.list_IDs = list_IDs\n",
    "        self.batch_size = batch_size\n",
    "        self.n_channels = n_channels\n",
    "        self.augmentation = augmentation\n",
    "        self.n_classes = n_classes\n",
    "        self.on_epoch_end()\n",
    "\n",
    "    def __len__(self):\n",
    "        'Denotes the number of batches per epoch'\n",
    "        return int(np.floor((len(self.list_IDs) / self.batch_size) ))\n",
    "\n",
    "    def __getitem__(self, index):\n",
    "        'Generate one batch of data'\n",
    "        # Generate indexes of the batch\n",
    "        indexes = self.indexes[index*self.batch_size:(index+1)*self.batch_size]\n",
    "\n",
    "        # Find list of IDs\n",
    "        list_IDs_temp = [self.list_IDs[k] for k in indexes]\n",
    "        # Generate data\n",
    "        X, y = self.__data_generation(list_IDs_temp)\n",
    "\n",
    "        return X, y\n",
    "\n",
    "\n",
    "    def on_epoch_end(self):\n",
    "        'Updates indexes after each epoch'\n",
    "        self.indexes = np.arange(len(self.list_IDs))\n",
    "\n",
    "    def __data_generation(self, list_IDs_temp):\n",
    "        'Generates data containing batch_size samples' # X : (n_samples, *dim, n_channels)\n",
    "        \n",
    "        X = np.empty((self.batch_size, *self.dim, self.n_channels))\n",
    "        y = np.empty((self.batch_size,1), dtype=int)\n",
    "\n",
    "        # Generate data\n",
    "        for i, ID in enumerate(list_IDs_temp):\n",
    "            # Store sample\n",
    "            X[i,] = read_cropped_image(ID,self.augmentation)\n",
    "            \n",
    "            Id =  ID.split('_')[0]\n",
    "            y[i] = Id2number[Id] \n",
    "\n",
    "        return X,keras.utils.to_categorical(y, num_classes=self.n_classes)"
   ]
  },
  {
   "cell_type": "code",
   "execution_count": null,
   "metadata": {},
   "outputs": [],
   "source": []
  },
  {
   "cell_type": "code",
   "execution_count": null,
   "metadata": {},
   "outputs": [],
   "source": [
    "test_generator = TestGenerator(submit,batch_size=1, dim=(112, 112))\n",
    "\n",
    "\n",
    "#layer_name = 'batch_normalization_35'\n",
    "#branch_model = Model(inputs=model.input,\n",
    "#                                 outputs=model.get_layer(layer_name).output)\n",
    "\n",
    "#preds = branch_model.predict_generator(test_generator,verbose=1)"
   ]
  },
  {
   "cell_type": "code",
   "execution_count": null,
   "metadata": {},
   "outputs": [],
   "source": [
    "#print(intermediate_output.shape)"
   ]
  },
  {
   "cell_type": "code",
   "execution_count": null,
   "metadata": {},
   "outputs": [],
   "source": [
    "number2Id = {}\n",
    "\n",
    "for Id,number in Id2number.items():\n",
    "    number2Id[number] = Id"
   ]
  },
  {
   "cell_type": "code",
   "execution_count": null,
   "metadata": {},
   "outputs": [],
   "source": [
    "model.evaluate_generator(test_generator, verbose=1)"
   ]
  },
  {
   "cell_type": "code",
   "execution_count": null,
   "metadata": {},
   "outputs": [],
   "source": []
  },
  {
   "cell_type": "code",
   "execution_count": null,
   "metadata": {},
   "outputs": [],
   "source": []
  },
  {
   "cell_type": "code",
   "execution_count": null,
   "metadata": {},
   "outputs": [],
   "source": []
  },
  {
   "cell_type": "code",
   "execution_count": null,
   "metadata": {},
   "outputs": [],
   "source": []
  },
  {
   "cell_type": "code",
   "execution_count": null,
   "metadata": {},
   "outputs": [],
   "source": []
  },
  {
   "cell_type": "code",
   "execution_count": null,
   "metadata": {},
   "outputs": [],
   "source": []
  },
  {
   "cell_type": "code",
   "execution_count": null,
   "metadata": {},
   "outputs": [],
   "source": []
  },
  {
   "cell_type": "code",
   "execution_count": null,
   "metadata": {},
   "outputs": [],
   "source": []
  },
  {
   "cell_type": "code",
   "execution_count": null,
   "metadata": {},
   "outputs": [],
   "source": []
  },
  {
   "cell_type": "code",
   "execution_count": null,
   "metadata": {},
   "outputs": [],
   "source": []
  },
  {
   "cell_type": "code",
   "execution_count": null,
   "metadata": {},
   "outputs": [],
   "source": []
  },
  {
   "cell_type": "code",
   "execution_count": null,
   "metadata": {},
   "outputs": [],
   "source": []
  },
  {
   "cell_type": "code",
   "execution_count": null,
   "metadata": {},
   "outputs": [],
   "source": []
  },
  {
   "cell_type": "code",
   "execution_count": null,
   "metadata": {},
   "outputs": [],
   "source": []
  },
  {
   "cell_type": "code",
   "execution_count": null,
   "metadata": {},
   "outputs": [],
   "source": []
  },
  {
   "cell_type": "code",
   "execution_count": null,
   "metadata": {},
   "outputs": [],
   "source": []
  },
  {
   "cell_type": "code",
   "execution_count": null,
   "metadata": {},
   "outputs": [],
   "source": []
  },
  {
   "cell_type": "code",
   "execution_count": null,
   "metadata": {},
   "outputs": [],
   "source": []
  },
  {
   "cell_type": "code",
   "execution_count": null,
   "metadata": {},
   "outputs": [],
   "source": []
  },
  {
   "cell_type": "code",
   "execution_count": null,
   "metadata": {},
   "outputs": [],
   "source": []
  },
  {
   "cell_type": "code",
   "execution_count": null,
   "metadata": {},
   "outputs": [],
   "source": []
  }
 ],
 "metadata": {
  "kernelspec": {
   "display_name": "TensorFlow-GPU",
   "language": "python",
   "name": "tf-gpu"
  },
  "language_info": {
   "codemirror_mode": {
    "name": "ipython",
    "version": 3
   },
   "file_extension": ".py",
   "mimetype": "text/x-python",
   "name": "python",
   "nbconvert_exporter": "python",
   "pygments_lexer": "ipython3",
   "version": "3.6.7"
  }
 },
 "nbformat": 4,
 "nbformat_minor": 2
}
